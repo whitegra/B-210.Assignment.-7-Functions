{
  "nbformat": 4,
  "nbformat_minor": 0,
  "metadata": {
    "colab": {
      "provenance": []
    },
    "kernelspec": {
      "name": "python3",
      "display_name": "Python 3"
    },
    "language_info": {
      "name": "python"
    }
  },
  "cells": [
    {
      "cell_type": "markdown",
      "source": [
        "**Def for dice winning probability:**"
      ],
      "metadata": {
        "id": "YNKp7bCMGYiI"
      }
    },
    {
      "cell_type": "code",
      "source": [
        "def calc_dice_craps():\n",
        "    \"\"\"\n",
        "    This function will calculate the probability of rolling two six sided dice that either matches the bet value or exceeds it.\n",
        "\n",
        "     Input:\n",
        "     win_bet_value = target value to win bet\n",
        "     num_dice = number of dice in the game\n",
        "     num_dice_sides = number of sides on the dice\n",
        "\n",
        "     Output:\n",
        "     probability of reaching the target value or exceeding the target value\n",
        "\n",
        "    \"\"\"\n",
        "\n",
        "    # user enters num_dice, num_sides, and their bet:\n",
        "    num_dice = int(input(\"\\n\\nEnter the number of dice: \"))\n",
        "    num_dice_sides = int(input(\"Enter the number of sides on the dice: \"))\n",
        "    win_bet_val = int(input(\"Enter your betting value: \"))\n",
        "\n",
        "    # Check for valid input\n",
        "    if num_dice <= 0 or num_dice_sides <= 0:\n",
        "        print(\"You can't make a bet if you're not rolling any dice ....\")\n",
        "        return\n",
        "\n",
        "    # this is to calculate the number of total outcomes based on the number of dice and the number of sides:\n",
        "    possible_dice_outcomes = num_dice_sides ** num_dice\n",
        "\n",
        "    # initialize the number of winning outcomes\n",
        "    winning_outcomes = 0\n",
        "\n",
        "    # now to calculate the number of ways the winning outcomes can be acheived from the number of sides and number of dice and winning bet value: *ADD 1 = INCLUSIVE*\n",
        "    for outcome in range(win_bet_val, num_dice * num_dice_sides + 1):\n",
        "        # update winning outcome count:\n",
        "        winning_outcomes += 1\n",
        "\n",
        "    # calculate the probability of winning = winning outcomes / all outcomes\n",
        "    probability = winning_outcomes / possible_dice_outcomes\n",
        "\n",
        "    print(\"_____________________________________________________\")\n",
        "    print(\"The probability of winning your bet is: \", probability)\n",
        "    print(\"_____________________________________________________\")\n",
        "    return probability"
      ],
      "metadata": {
        "id": "WcPrGIqkR4KO"
      },
      "execution_count": 1,
      "outputs": []
    },
    {
      "cell_type": "code",
      "source": [
        "# for number of ways to win:\n",
        "# 1:\n",
        "# for loop to get all outcomes = i in range(start: number_dice --> (1 + sides * number_dice)\n",
        "#2:\n",
        "# outcomes <= number of dice then multiple by the number of sides // 2 to split into winning and losing categories\n",
        "    #*****ADD 1 TO INCLUDE THE STARTING VALUE******\n",
        "#3:\n",
        "# then the number of ways to get winning role outcome = outcome (<= num_dice) - the number of dice **ADD ONE OR IT WON'T WORK*******\n",
        "# else if outcome >= number of dice, then the ways to win = the number of dice * the number of sides (*ADD ONE OR IT WONT WORK*) - the outcome from the first for loop\n",
        "   # so then the number of ways to get winning outcome will = (variable in else statement)\n",
        "#4:\n",
        "#total probability = all outcomes / winning outcomes"
      ],
      "metadata": {
        "id": "A_ielX-kklkv"
      },
      "execution_count": null,
      "outputs": []
    },
    {
      "cell_type": "markdown",
      "source": [
        "**def for set combinations:**"
      ],
      "metadata": {
        "id": "Wv4hyQb3GbSB"
      }
    },
    {
      "cell_type": "code",
      "source": [
        "def set_combinations():\n",
        "  \"\"\"\n",
        "  this will generate every combination of characters in a given set (or list) of characters.\n",
        "\n",
        "  Inputs:\n",
        "  set = string of characters or values\n",
        "\n",
        "  Variables:\n",
        "  'j' = position in user_string\n",
        "  'i' = iteration variable\n",
        "\n",
        "  Output:\n",
        "  All combinations of items in the set (i'm putting them into a list)\n",
        "  \"\"\"\n",
        "  # user inputs the string:\n",
        "  user_string = input(\"Enter the string of characters: \")\n",
        "\n",
        "  # innitialize the list with combinations to be empty before the for loop:\n",
        "  combinations_list = []\n",
        "  # for all combinations, you have to do 2 ^ n which is the number of characters in the set (n):\n",
        "  num_characters = len(user_string)\n",
        "  all_possible_combinations = 2**num_characters\n",
        "\n",
        "  # for loop to find all the possible combinations within the given set of characters:\n",
        "  for i in range(all_possible_combinations):\n",
        "    # innitialize the combinations string to be empty until the end of calculations:\n",
        "    str_combos = \"\"\n",
        "    # this is to calculate the sets of characters:\n",
        "    # basically it's to see if the iteration chracter is a set or chracter to be included in the combinations:               #**WILL NOT WORK IF YOU USE OTHER ITERATION VARIABLE NAMES**\n",
        "    for j in range(num_characters): # j = position in the set\n",
        "      if i & (1 << j): # i = iteration variable from 0 -> 2 ^n(num_chars), to move through the positions (j) and to not include 0 in combinations to keep list iterating:\n",
        "        str_combos += user_string[j] # add string position (j) to list of combinations as calculated above, and excluding 0 values\n",
        "\n",
        "    # to combine all the values of combinations into a single list, you use the append function + combinations to fill the empty list: (don't know how else to do it other than appending)\n",
        "    combinations_list.append(str_combos)\n",
        "\n",
        "  # to return the combination list:\n",
        "  return combinations_list\n"
      ],
      "metadata": {
        "id": "u08IYihYa_TB"
      },
      "execution_count": 6,
      "outputs": []
    },
    {
      "cell_type": "markdown",
      "source": [
        "MAIN"
      ],
      "metadata": {
        "id": "zUJQQe5na_iU"
      }
    },
    {
      "cell_type": "code",
      "source": [
        "\n",
        "while True:\n",
        "  # for user to chose the program\n",
        "  program_choice = input(\"Enter the program you would like to run: ('d' for dice probability or 'c' for set combinations: )\")\n",
        "\n",
        "  # in case user enters an invalid program choice\n",
        "  if program_choice != 'd' and program_choice != 'c':\n",
        "    print(\"Invalid choice. Please try again. \")\n",
        "    continue\n",
        "\n",
        "  # FOR CRAPS DICE PROBABILITY:\n",
        "  elif program_choice == 'd':\n",
        "    while True:\n",
        "      calc_dice_craps()\n",
        "      run_craps = input(\"Run again? ('y/n'):\")\n",
        "      if run_craps != 'y':\n",
        "        break\n",
        "\n",
        "  # FOR THE SET COMBINATIONS:\n",
        "  elif program_choice == 'c':\n",
        "    # this is to reference the function to correctly print all the combinations\n",
        "    all_combinations = set_combinations()\n",
        "    # REF COMBO STRING TO PRINT OUTSIDE OF FUNCTION:\n",
        "    for str_combos in all_combinations:\n",
        "      print(str_combos)\n",
        "\n",
        "  # invlaid choice\n",
        "  else:\n",
        "    print(\"invalid choice. Please try again. /n\")\n",
        "    continue\n",
        "\n",
        "# run program again (while loop)\n",
        "  run_program_again = input(\"Would you like to run the program again? ('y' for yes, 'stop' to exit): \")\n",
        "  if run_program_again != 'y':\n",
        "    break\n",
        "\n"
      ],
      "metadata": {
        "id": "GIPHz8xAbARR",
        "outputId": "7b52c4f0-53b9-4ebb-a6be-4941d6ac8819",
        "colab": {
          "base_uri": "https://localhost:8080/"
        }
      },
      "execution_count": 10,
      "outputs": [
        {
          "name": "stdout",
          "output_type": "stream",
          "text": [
            "Enter the program you would like to run: ('d' for dice probability or 'c' for set combinations: )c\n",
            "Enter the string of characters: ABC\n",
            "\n",
            "A\n",
            "B\n",
            "AB\n",
            "C\n",
            "AC\n",
            "BC\n",
            "ABC\n",
            "Would you like to run the program again? ('y' for yes, 'stop' to exit): y\n",
            "Enter the program you would like to run: ('d' for dice probability or 'c' for set combinations: )d\n",
            "\n",
            "\n",
            "Enter the number of dice: 2\n",
            "Enter the number of sides on the dice: 6\n",
            "Enter your betting value: 7\n",
            "_____________________________________________________\n",
            "The probability of winning your bet is:  0.16666666666666666\n",
            "_____________________________________________________\n",
            "Run again? ('y/n'):y\n",
            "\n",
            "\n",
            "Enter the number of dice: 2\n",
            "Enter the number of sides on the dice: 6\n",
            "Enter your betting value: 9\n",
            "_____________________________________________________\n",
            "The probability of winning your bet is:  0.1111111111111111\n",
            "_____________________________________________________\n",
            "Run again? ('y/n'):y\n",
            "\n",
            "\n",
            "Enter the number of dice: 3\n",
            "Enter the number of sides on the dice: 8\n",
            "Enter your betting value: 22\n",
            "_____________________________________________________\n",
            "The probability of winning your bet is:  0.005859375\n",
            "_____________________________________________________\n",
            "Run again? ('y/n'):y\n",
            "\n",
            "\n",
            "Enter the number of dice: 1\n",
            "Enter the number of sides on the dice: 20\n",
            "Enter your betting value: 17\n",
            "_____________________________________________________\n",
            "The probability of winning your bet is:  0.2\n",
            "_____________________________________________________\n",
            "Run again? ('y/n'):y\n",
            "\n",
            "\n",
            "Enter the number of dice: 0\n",
            "Enter the number of sides on the dice: 6\n",
            "Enter your betting value: 5\n",
            "You can't make a bet if you're not rolling any dice ....\n",
            "Run again? ('y/n'):n\n",
            "Would you like to run the program again? ('y' for yes, 'stop' to exit): stop\n"
          ]
        }
      ]
    }
  ]
}